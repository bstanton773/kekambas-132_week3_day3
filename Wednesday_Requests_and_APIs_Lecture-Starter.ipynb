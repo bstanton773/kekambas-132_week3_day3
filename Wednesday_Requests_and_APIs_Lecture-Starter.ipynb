{
 "cells": [
  {
   "cell_type": "markdown",
   "metadata": {},
   "source": [
    "# Python Requests"
   ]
  },
  {
   "cell_type": "markdown",
   "metadata": {},
   "source": [
    "## Tasks Today:\n",
    "\n",
    "   \n",
    "1) <b>Requests package</b> <br>\n",
    " &nbsp;&nbsp;&nbsp;&nbsp; a) pip install <br>\n",
    " &nbsp;&nbsp;&nbsp;&nbsp; b) requests.get <br>\n",
    " &nbsp;&nbsp;&nbsp;&nbsp; c) Response object <br>\n",
    " &nbsp;&nbsp;&nbsp;&nbsp; d) .content and .text <br>\n",
    " &nbsp;&nbsp;&nbsp;&nbsp; e) JSON <br>  \n",
    "2) <b>Python Wrapper</b> <br>\n",
    " &nbsp;&nbsp;&nbsp;&nbsp; a) API key and base url<br>\n",
    " &nbsp;&nbsp;&nbsp;&nbsp; b) Creating a class for our requests<br>\n",
    " &nbsp;&nbsp;&nbsp;&nbsp; c) Private method for getting the response data <br>\n",
    " &nbsp;&nbsp;&nbsp;&nbsp; d) Public method for displaying the data <br>\n",
    " &nbsp;&nbsp;&nbsp;&nbsp; e) In-Class Exercise #1 - Add a method for getting the high and lows for the next 3 days <br>\n",
    "3) <b>Exercises</b> <br>\n",
    " &nbsp;&nbsp;&nbsp;&nbsp; a) Exercise #1 - Pokemon Wrapper  <br>"
   ]
  },
  {
   "cell_type": "code",
   "execution_count": 1,
   "metadata": {},
   "outputs": [
    {
     "name": "stdout",
     "output_type": "stream",
     "text": [
      "Python 3.10.9\n"
     ]
    }
   ],
   "source": [
    "!python --version"
   ]
  },
  {
   "cell_type": "code",
   "execution_count": 2,
   "metadata": {},
   "outputs": [
    {
     "name": "stdout",
     "output_type": "stream",
     "text": [
      "pip 22.3.1 from C:\\Users\\bstan\\anaconda3\\lib\\site-packages\\pip (python 3.10)\n",
      "\n"
     ]
    }
   ],
   "source": [
    "!pip --version"
   ]
  },
  {
   "cell_type": "code",
   "execution_count": 3,
   "metadata": {},
   "outputs": [],
   "source": [
    "# !pip install Faker"
   ]
  },
  {
   "cell_type": "code",
   "execution_count": 4,
   "metadata": {},
   "outputs": [],
   "source": [
    "from faker import Faker\n",
    "\n",
    "fake = Faker()"
   ]
  },
  {
   "cell_type": "code",
   "execution_count": 5,
   "metadata": {},
   "outputs": [
    {
     "name": "stdout",
     "output_type": "stream",
     "text": [
      "<faker.proxy.Faker object at 0x000001A2CD3D8C10>\n"
     ]
    }
   ],
   "source": [
    "print(fake)"
   ]
  },
  {
   "cell_type": "code",
   "execution_count": 6,
   "metadata": {},
   "outputs": [
    {
     "data": {
      "text/plain": [
       "'Jeremy Atkins'"
      ]
     },
     "execution_count": 6,
     "metadata": {},
     "output_type": "execute_result"
    }
   ],
   "source": [
    "fake.name()"
   ]
  },
  {
   "cell_type": "code",
   "execution_count": 7,
   "metadata": {},
   "outputs": [
    {
     "data": {
      "text/plain": [
       "'Front-line web-enabled instruction set'"
      ]
     },
     "execution_count": 7,
     "metadata": {},
     "output_type": "execute_result"
    }
   ],
   "source": [
    "fake.catch_phrase()"
   ]
  },
  {
   "cell_type": "code",
   "execution_count": 8,
   "metadata": {
    "scrolled": false
   },
   "outputs": [],
   "source": [
    "data = []\n",
    "for _ in range(10):\n",
    "    first = fake.first_name()\n",
    "    last = fake.last_name()\n",
    "    person_info = {\n",
    "        'first_name': first,\n",
    "        'last_name': last,\n",
    "        'city': fake.city(),\n",
    "        'email': f'{first.lower()}.{last.lower()}@{fake.domain_name()}',\n",
    "        'occupation': {\n",
    "            'company': fake.company(),\n",
    "            'position': fake.job()\n",
    "        }\n",
    "    }\n",
    "    data.append(person_info)"
   ]
  },
  {
   "cell_type": "code",
   "execution_count": 9,
   "metadata": {},
   "outputs": [
    {
     "data": {
      "text/plain": [
       "[{'first_name': 'Katherine',\n",
       "  'last_name': 'Lowe',\n",
       "  'city': 'East Deborahborough',\n",
       "  'email': 'katherine.lowe@bass.biz',\n",
       "  'occupation': {'company': 'Duncan, Houston and Moore',\n",
       "   'position': 'Engineer, structural'}},\n",
       " {'first_name': 'Joshua',\n",
       "  'last_name': 'Ramos',\n",
       "  'city': 'Port Andrewtown',\n",
       "  'email': 'joshua.ramos@ryan.org',\n",
       "  'occupation': {'company': 'Carson Ltd',\n",
       "   'position': 'Education officer, community'}},\n",
       " {'first_name': 'Patrick',\n",
       "  'last_name': 'Smith',\n",
       "  'city': 'Hurleyshire',\n",
       "  'email': 'patrick.smith@turner.com',\n",
       "  'occupation': {'company': 'Brewer Group',\n",
       "   'position': 'Administrator, charities/voluntary organisations'}},\n",
       " {'first_name': 'Michael',\n",
       "  'last_name': 'Wright',\n",
       "  'city': 'South Anthony',\n",
       "  'email': 'michael.wright@brown-bauer.com',\n",
       "  'occupation': {'company': 'Smith, Rodriguez and Johnson',\n",
       "   'position': 'Chief Executive Officer'}},\n",
       " {'first_name': 'Thomas',\n",
       "  'last_name': 'Gomez',\n",
       "  'city': 'New Nicholasberg',\n",
       "  'email': 'thomas.gomez@hull-carson.biz',\n",
       "  'occupation': {'company': 'Stewart-Brooks', 'position': 'Tour manager'}},\n",
       " {'first_name': 'Ryan',\n",
       "  'last_name': 'Grant',\n",
       "  'city': 'Hugheston',\n",
       "  'email': 'ryan.grant@miller.com',\n",
       "  'occupation': {'company': 'Lambert-Hendricks',\n",
       "   'position': 'Control and instrumentation engineer'}},\n",
       " {'first_name': 'Maria',\n",
       "  'last_name': 'Stanley',\n",
       "  'city': 'Krystalton',\n",
       "  'email': 'maria.stanley@kelley.info',\n",
       "  'occupation': {'company': 'Gonzalez LLC', 'position': 'Fish farm manager'}},\n",
       " {'first_name': 'Paul',\n",
       "  'last_name': 'Baker',\n",
       "  'city': 'Randolphstad',\n",
       "  'email': 'paul.baker@horton.com',\n",
       "  'occupation': {'company': 'James, Wilson and Jones',\n",
       "   'position': 'Programme researcher, broadcasting/film/video'}},\n",
       " {'first_name': 'Carlos',\n",
       "  'last_name': 'Palmer',\n",
       "  'city': 'East Nicholas',\n",
       "  'email': 'carlos.palmer@marsh.com',\n",
       "  'occupation': {'company': 'Robbins LLC', 'position': 'Financial planner'}},\n",
       " {'first_name': 'Michael',\n",
       "  'last_name': 'Morris',\n",
       "  'city': 'North Darrenhaven',\n",
       "  'email': 'michael.morris@barker-hays.org',\n",
       "  'occupation': {'company': 'Sanchez-Moore', 'position': 'Police officer'}}]"
      ]
     },
     "execution_count": 9,
     "metadata": {},
     "output_type": "execute_result"
    }
   ],
   "source": [
    "data"
   ]
  },
  {
   "cell_type": "markdown",
   "metadata": {},
   "source": [
    "#### Warm Up\n",
    "Write a function that takes in a name (first or last) and returns the position and company name of that person. If the user is not found, return -1"
   ]
  },
  {
   "cell_type": "code",
   "execution_count": 10,
   "metadata": {},
   "outputs": [],
   "source": [
    "# Example 1\n",
    "# get_person_info('Adam')\n",
    "# Output: 'Records manager at Odom, Harper, and Allen'\n",
    "\n",
    "# Example 2\n",
    "# get_person_info('Burns')\n",
    "# Output: 'Applications developer at Sanders-Ryan'\n",
    "\n",
    "# Example 3\n",
    "# get_person_info('Alice')\n",
    "# Output: -1"
   ]
  },
  {
   "cell_type": "code",
   "execution_count": 11,
   "metadata": {},
   "outputs": [],
   "source": [
    "data = [\n",
    "    {\n",
    "        'first_name': 'Adam',\n",
    "        'last_name': 'Simpson',\n",
    "        'city': 'West Maureenland',\n",
    "        'email': 'adam.simpson@paul-williams.com',\n",
    "        'occupation': {\n",
    "            'company': 'Odom, Harper and Allen',\n",
    "            'position': 'Records manager'\n",
    "        }\n",
    "    },\n",
    "    {\n",
    "        'first_name': 'Robert',\n",
    "        'last_name': 'Miller',\n",
    "        'city': 'South Jaredburgh',\n",
    "        'email': 'robert.miller@allen.org',\n",
    "        'occupation': {\n",
    "            'company': 'Roberts-Jackson',\n",
    "            'position': 'Media planner'\n",
    "        }\n",
    "    },\n",
    "    {\n",
    "        'first_name': 'Edwin',\n",
    "        'last_name': 'Johnson',\n",
    "        'city': 'Lake Kimberly',\n",
    "        'email': 'edwin.johnson@sanders.biz',\n",
    "        'occupation': {\n",
    "            'company': 'Hart, Jones and Malone',\n",
    "            'position': 'Therapist, speech and language'\n",
    "        }\n",
    "    },\n",
    "    {\n",
    "        'first_name': 'Gail',\n",
    "        'last_name': 'Castro',\n",
    "        'city': 'Brianchester',\n",
    "        'email': 'gail.castro@suarez-sullivan.org',\n",
    "        'occupation': {\n",
    "            'company': 'Duncan-Gallagher',\n",
    "            'position': 'Designer, multimedia'\n",
    "        }\n",
    "    },\n",
    "    {\n",
    "        'first_name': 'Andre',\n",
    "        'last_name': 'Burns',\n",
    "        'city': 'New Samuelside',\n",
    "        'email': 'andre.burns@love.com',\n",
    "        'occupation': {\n",
    "            'company': 'Sanders-Ryan',\n",
    "            'position': 'Applications developer'\n",
    "        }\n",
    "    },\n",
    "    {\n",
    "        'first_name': 'Nicole',\n",
    "        'last_name': 'Maynard',\n",
    "        'city': 'Teresaville',\n",
    "        'email': 'nicole.maynard@chavez.com',\n",
    "        'occupation': {\n",
    "            'company': 'Hoffman, Reynolds and Wilson',\n",
    "            'position': 'Community education officer'\n",
    "        }\n",
    "    },\n",
    "    {\n",
    "        'first_name': 'Megan',\n",
    "        'last_name': 'Mcdonald',\n",
    "        'city': 'Walkerfurt',\n",
    "        'email': 'megan.mcdonald@guzman.info',\n",
    "        'occupation': {\n",
    "            'company': 'King Ltd',\n",
    "            'position': 'Doctor, general practice'\n",
    "        }\n",
    "    },\n",
    "    {\n",
    "        'first_name': 'Stephen',\n",
    "        'last_name': 'Young',\n",
    "        'city': 'South Jeffrey',\n",
    "        'email': 'stephen.young@smith.biz',\n",
    "        'occupation': {\n",
    "            'company': 'Hernandez LLC',\n",
    "            'position': 'Environmental manager'\n",
    "        }\n",
    "    },\n",
    "    {\n",
    "        'first_name': 'Daniel',\n",
    "        'last_name': 'Deleon',\n",
    "        'city': 'Yatesburgh',\n",
    "        'email': 'daniel.deleon@mcmahon.org',\n",
    "        'occupation': {\n",
    "            'company': 'Nelson-Wilson',\n",
    "            'position': 'Sports development officer'\n",
    "        }\n",
    "    },\n",
    "    {\n",
    "        'first_name': 'Patricia',\n",
    "        'last_name': 'Pacheco',\n",
    "        'city': 'South Donnamouth',\n",
    "        'email': 'patricia.pacheco@lee-wilson.com',\n",
    "        'occupation': {\n",
    "            'company': 'Giles, Williams and Jones',\n",
    "            'position': 'Theatre manager'\n",
    "        }\n",
    "    }\n",
    "]\n",
    "\n",
    "def get_person_info(name):\n",
    "    for person in data:\n",
    "        if person['first_name'] == name or person['last_name'] == name:\n",
    "            return person['occupation']['position'] + ' at ' + person['occupation']['company']\n",
    "    return -1\n"
   ]
  },
  {
   "cell_type": "code",
   "execution_count": 12,
   "metadata": {
    "scrolled": false
   },
   "outputs": [
    {
     "data": {
      "text/plain": [
       "'Records manager at Odom, Harper and Allen'"
      ]
     },
     "execution_count": 12,
     "metadata": {},
     "output_type": "execute_result"
    }
   ],
   "source": [
    "get_person_info('Adam')"
   ]
  },
  {
   "cell_type": "code",
   "execution_count": 13,
   "metadata": {},
   "outputs": [
    {
     "data": {
      "text/plain": [
       "'Applications developer at Sanders-Ryan'"
      ]
     },
     "execution_count": 13,
     "metadata": {},
     "output_type": "execute_result"
    }
   ],
   "source": [
    "get_person_info('Burns')"
   ]
  },
  {
   "cell_type": "code",
   "execution_count": 14,
   "metadata": {},
   "outputs": [
    {
     "data": {
      "text/plain": [
       "-1"
      ]
     },
     "execution_count": 14,
     "metadata": {},
     "output_type": "execute_result"
    }
   ],
   "source": [
    "get_person_info('Alice')"
   ]
  },
  {
   "cell_type": "code",
   "execution_count": 15,
   "metadata": {},
   "outputs": [
    {
     "data": {
      "text/plain": [
       "'Community education officer at Hoffman, Reynolds and Wilson'"
      ]
     },
     "execution_count": 15,
     "metadata": {},
     "output_type": "execute_result"
    }
   ],
   "source": [
    "def get_person_info2(name):\n",
    "    for person in data:\n",
    "        for val in person.values():\n",
    "            if val == name:\n",
    "                return f\"{person['occupation']['position']} at {person['occupation']['company']}\"\n",
    "    return -1\n",
    "\n",
    "\n",
    "get_person_info2('nicole.maynard@chavez.com')"
   ]
  },
  {
   "cell_type": "code",
   "execution_count": 16,
   "metadata": {},
   "outputs": [
    {
     "data": {
      "text/plain": [
       "'Doctor, general practice at King Ltd'"
      ]
     },
     "execution_count": 16,
     "metadata": {},
     "output_type": "execute_result"
    }
   ],
   "source": [
    "get_person_info2('Walkerfurt')"
   ]
  },
  {
   "cell_type": "markdown",
   "metadata": {},
   "source": [
    "### Requests Package\n",
    "<a href='https://docs.python-requests.org/en/latest/'>Docs</a>"
   ]
  },
  {
   "cell_type": "markdown",
   "metadata": {},
   "source": [
    "#### Install and import package"
   ]
  },
  {
   "cell_type": "code",
   "execution_count": 17,
   "metadata": {},
   "outputs": [],
   "source": [
    "# !pip install requests"
   ]
  },
  {
   "cell_type": "code",
   "execution_count": 18,
   "metadata": {},
   "outputs": [
    {
     "data": {
      "text/plain": [
       "<module 'requests' from 'C:\\\\Users\\\\bstan\\\\anaconda3\\\\lib\\\\site-packages\\\\requests\\\\__init__.py'>"
      ]
     },
     "execution_count": 18,
     "metadata": {},
     "output_type": "execute_result"
    }
   ],
   "source": [
    "import requests\n",
    "\n",
    "requests"
   ]
  },
  {
   "cell_type": "markdown",
   "metadata": {},
   "source": [
    "#### requests get method"
   ]
  },
  {
   "cell_type": "code",
   "execution_count": 19,
   "metadata": {},
   "outputs": [
    {
     "name": "stdout",
     "output_type": "stream",
     "text": [
      "Help on function get in module requests.api:\n",
      "\n",
      "get(url, params=None, **kwargs)\n",
      "    Sends a GET request.\n",
      "    \n",
      "    :param url: URL for the new :class:`Request` object.\n",
      "    :param params: (optional) Dictionary, list of tuples or bytes to send\n",
      "        in the query string for the :class:`Request`.\n",
      "    :param \\*\\*kwargs: Optional arguments that ``request`` takes.\n",
      "    :return: :class:`Response <Response>` object\n",
      "    :rtype: requests.Response\n",
      "\n"
     ]
    }
   ],
   "source": [
    "help(requests.get)"
   ]
  },
  {
   "cell_type": "code",
   "execution_count": 20,
   "metadata": {},
   "outputs": [
    {
     "name": "stdout",
     "output_type": "stream",
     "text": [
      "<Response [200]>\n"
     ]
    },
    {
     "data": {
      "text/plain": [
       "<Response [200]>"
      ]
     },
     "execution_count": 20,
     "metadata": {},
     "output_type": "execute_result"
    }
   ],
   "source": [
    "response = requests.get('https://www.codingtemple.com')\n",
    "\n",
    "print(response)\n",
    "response"
   ]
  },
  {
   "cell_type": "code",
   "execution_count": 21,
   "metadata": {},
   "outputs": [
    {
     "name": "stdout",
     "output_type": "stream",
     "text": [
      "<Response [404]>\n"
     ]
    }
   ],
   "source": [
    "bad_res = requests.get('https://www.github.com/dshfjkdshfjkdshf')\n",
    "print(bad_res)"
   ]
  },
  {
   "cell_type": "markdown",
   "metadata": {},
   "source": [
    "#### Response object"
   ]
  },
  {
   "cell_type": "code",
   "execution_count": 22,
   "metadata": {},
   "outputs": [
    {
     "data": {
      "text/plain": [
       "requests.models.Response"
      ]
     },
     "execution_count": 22,
     "metadata": {},
     "output_type": "execute_result"
    }
   ],
   "source": [
    "type(response)"
   ]
  },
  {
   "cell_type": "code",
   "execution_count": 23,
   "metadata": {
    "scrolled": false
   },
   "outputs": [
    {
     "name": "stdout",
     "output_type": "stream",
     "text": [
      "Help on Response in module requests.models object:\n",
      "\n",
      "class Response(builtins.object)\n",
      " |  The :class:`Response <Response>` object, which contains a\n",
      " |  server's response to an HTTP request.\n",
      " |  \n",
      " |  Methods defined here:\n",
      " |  \n",
      " |  __bool__(self)\n",
      " |      Returns True if :attr:`status_code` is less than 400.\n",
      " |      \n",
      " |      This attribute checks if the status code of the response is between\n",
      " |      400 and 600 to see if there was a client error or a server error. If\n",
      " |      the status code, is between 200 and 400, this will return True. This\n",
      " |      is **not** a check to see if the response code is ``200 OK``.\n",
      " |  \n",
      " |  __enter__(self)\n",
      " |  \n",
      " |  __exit__(self, *args)\n",
      " |  \n",
      " |  __getstate__(self)\n",
      " |  \n",
      " |  __init__(self)\n",
      " |      Initialize self.  See help(type(self)) for accurate signature.\n",
      " |  \n",
      " |  __iter__(self)\n",
      " |      Allows you to use a response as an iterator.\n",
      " |  \n",
      " |  __nonzero__(self)\n",
      " |      Returns True if :attr:`status_code` is less than 400.\n",
      " |      \n",
      " |      This attribute checks if the status code of the response is between\n",
      " |      400 and 600 to see if there was a client error or a server error. If\n",
      " |      the status code, is between 200 and 400, this will return True. This\n",
      " |      is **not** a check to see if the response code is ``200 OK``.\n",
      " |  \n",
      " |  __repr__(self)\n",
      " |      Return repr(self).\n",
      " |  \n",
      " |  __setstate__(self, state)\n",
      " |  \n",
      " |  close(self)\n",
      " |      Releases the connection back to the pool. Once this method has been\n",
      " |      called the underlying ``raw`` object must not be accessed again.\n",
      " |      \n",
      " |      *Note: Should not normally need to be called explicitly.*\n",
      " |  \n",
      " |  iter_content(self, chunk_size=1, decode_unicode=False)\n",
      " |      Iterates over the response data.  When stream=True is set on the\n",
      " |      request, this avoids reading the content at once into memory for\n",
      " |      large responses.  The chunk size is the number of bytes it should\n",
      " |      read into memory.  This is not necessarily the length of each item\n",
      " |      returned as decoding can take place.\n",
      " |      \n",
      " |      chunk_size must be of type int or None. A value of None will\n",
      " |      function differently depending on the value of `stream`.\n",
      " |      stream=True will read data as it arrives in whatever size the\n",
      " |      chunks are received. If stream=False, data is returned as\n",
      " |      a single chunk.\n",
      " |      \n",
      " |      If decode_unicode is True, content will be decoded using the best\n",
      " |      available encoding based on the response.\n",
      " |  \n",
      " |  iter_lines(self, chunk_size=512, decode_unicode=False, delimiter=None)\n",
      " |      Iterates over the response data, one line at a time.  When\n",
      " |      stream=True is set on the request, this avoids reading the\n",
      " |      content at once into memory for large responses.\n",
      " |      \n",
      " |      .. note:: This method is not reentrant safe.\n",
      " |  \n",
      " |  json(self, **kwargs)\n",
      " |      Returns the json-encoded content of a response, if any.\n",
      " |      \n",
      " |      :param \\*\\*kwargs: Optional arguments that ``json.loads`` takes.\n",
      " |      :raises requests.exceptions.JSONDecodeError: If the response body does not\n",
      " |          contain valid json.\n",
      " |  \n",
      " |  raise_for_status(self)\n",
      " |      Raises :class:`HTTPError`, if one occurred.\n",
      " |  \n",
      " |  ----------------------------------------------------------------------\n",
      " |  Readonly properties defined here:\n",
      " |  \n",
      " |  apparent_encoding\n",
      " |      The apparent encoding, provided by the charset_normalizer or chardet libraries.\n",
      " |  \n",
      " |  content\n",
      " |      Content of the response, in bytes.\n",
      " |  \n",
      " |  is_permanent_redirect\n",
      " |      True if this Response one of the permanent versions of redirect.\n",
      " |  \n",
      " |  is_redirect\n",
      " |      True if this Response is a well-formed HTTP redirect that could have\n",
      " |      been processed automatically (by :meth:`Session.resolve_redirects`).\n",
      " |  \n",
      " |  links\n",
      " |      Returns the parsed header links of the response, if any.\n",
      " |  \n",
      " |  next\n",
      " |      Returns a PreparedRequest for the next request in a redirect chain, if there is one.\n",
      " |  \n",
      " |  ok\n",
      " |      Returns True if :attr:`status_code` is less than 400, False if not.\n",
      " |      \n",
      " |      This attribute checks if the status code of the response is between\n",
      " |      400 and 600 to see if there was a client error or a server error. If\n",
      " |      the status code is between 200 and 400, this will return True. This\n",
      " |      is **not** a check to see if the response code is ``200 OK``.\n",
      " |  \n",
      " |  text\n",
      " |      Content of the response, in unicode.\n",
      " |      \n",
      " |      If Response.encoding is None, encoding will be guessed using\n",
      " |      ``charset_normalizer`` or ``chardet``.\n",
      " |      \n",
      " |      The encoding of the response content is determined based solely on HTTP\n",
      " |      headers, following RFC 2616 to the letter. If you can take advantage of\n",
      " |      non-HTTP knowledge to make a better guess at the encoding, you should\n",
      " |      set ``r.encoding`` appropriately before accessing this property.\n",
      " |  \n",
      " |  ----------------------------------------------------------------------\n",
      " |  Data descriptors defined here:\n",
      " |  \n",
      " |  __dict__\n",
      " |      dictionary for instance variables (if defined)\n",
      " |  \n",
      " |  __weakref__\n",
      " |      list of weak references to the object (if defined)\n",
      " |  \n",
      " |  ----------------------------------------------------------------------\n",
      " |  Data and other attributes defined here:\n",
      " |  \n",
      " |  __attrs__ = ['_content', 'status_code', 'headers', 'url', 'history', '...\n",
      "\n"
     ]
    }
   ],
   "source": [
    "help(response)"
   ]
  },
  {
   "cell_type": "code",
   "execution_count": 24,
   "metadata": {},
   "outputs": [
    {
     "data": {
      "text/plain": [
       "200"
      ]
     },
     "execution_count": 24,
     "metadata": {},
     "output_type": "execute_result"
    }
   ],
   "source": [
    "response.status_code"
   ]
  },
  {
   "cell_type": "code",
   "execution_count": 25,
   "metadata": {},
   "outputs": [
    {
     "data": {
      "text/plain": [
       "{'Server': 'Sucuri/Cloudproxy', 'Date': 'Wed, 04 Oct 2023 20:15:53 GMT', 'Content-Type': 'text/html; charset=UTF-8', 'Content-Length': '21857', 'Connection': 'keep-alive', 'X-Sucuri-ID': '20008', 'X-XSS-Protection': '1; mode=block', 'X-Frame-Options': 'SAMEORIGIN', 'X-Content-Type-Options': 'nosniff', 'Content-Security-Policy': 'upgrade-insecure-requests;', 'Expires': 'Thu, 19 Nov 1981 08:52:00 GMT', 'Cache-Control': 'no-store, no-cache, must-revalidate', 'Pragma': 'no-cache', 'Link': '<https://www.codingtemple.com/wp-json/>; rel=\"https://api.w.org/\", <https://www.codingtemple.com/wp-json/wp/v2/pages/6>; rel=\"alternate\"; type=\"application/json\", <https://www.codingtemple.com/>; rel=shortlink', 'Set-Cookie': 'PHPSESSID=1bb86846c2913814b623c88a096e17d4; path=/; secure; HttpOnly, pbid=b6175e076d6201466ac1b2b0ed8c18a859c29c42893cc9377bc06c8b96239ca7; expires=Mon, 01-Apr-2024 20:15:52 GMT; Max-Age=15552000; path=/', 'Vary': 'Accept-Encoding', 'Content-Encoding': 'br', 'X-Sucuri-Cache': 'MISS'}"
      ]
     },
     "execution_count": 25,
     "metadata": {},
     "output_type": "execute_result"
    }
   ],
   "source": [
    "response.headers"
   ]
  },
  {
   "cell_type": "code",
   "execution_count": 26,
   "metadata": {},
   "outputs": [
    {
     "data": {
      "text/plain": [
       "True"
      ]
     },
     "execution_count": 26,
     "metadata": {},
     "output_type": "execute_result"
    }
   ],
   "source": [
    "response.ok"
   ]
  },
  {
   "cell_type": "code",
   "execution_count": 27,
   "metadata": {},
   "outputs": [
    {
     "data": {
      "text/plain": [
       "False"
      ]
     },
     "execution_count": 27,
     "metadata": {},
     "output_type": "execute_result"
    }
   ],
   "source": [
    "bad_res.ok"
   ]
  },
  {
   "cell_type": "markdown",
   "metadata": {},
   "source": [
    "#### .content"
   ]
  },
  {
   "cell_type": "code",
   "execution_count": 28,
   "metadata": {
    "scrolled": true
   },
   "outputs": [],
   "source": [
    "# print(response.content)"
   ]
  },
  {
   "cell_type": "markdown",
   "metadata": {},
   "source": [
    "#### .text"
   ]
  },
  {
   "cell_type": "code",
   "execution_count": 29,
   "metadata": {
    "scrolled": true
   },
   "outputs": [],
   "source": [
    "# print(response.text)"
   ]
  },
  {
   "cell_type": "code",
   "execution_count": 30,
   "metadata": {},
   "outputs": [
    {
     "name": "stdout",
     "output_type": "stream",
     "text": [
      "True\n"
     ]
    }
   ],
   "source": [
    "print(response.ok)"
   ]
  },
  {
   "cell_type": "markdown",
   "metadata": {},
   "source": [
    "#### JSON Response"
   ]
  },
  {
   "cell_type": "code",
   "execution_count": 31,
   "metadata": {
    "scrolled": true
   },
   "outputs": [
    {
     "name": "stdout",
     "output_type": "stream",
     "text": [
      "<Response [200]>\n"
     ]
    }
   ],
   "source": [
    "# JSON - JavaScript Object Notation\n",
    "# {\"key1\": value, \"key2\": value, etc.} \n",
    "\n",
    "\n",
    "poke_res = requests.get('https://pokeapi.co/api/v2/pokemon/charizard')\n",
    "print(poke_res)"
   ]
  },
  {
   "cell_type": "code",
   "execution_count": 32,
   "metadata": {
    "scrolled": true
   },
   "outputs": [
    {
     "data": {
      "text/plain": [
       "True"
      ]
     },
     "execution_count": 32,
     "metadata": {},
     "output_type": "execute_result"
    }
   ],
   "source": [
    "poke_res.ok"
   ]
  },
  {
   "cell_type": "code",
   "execution_count": 33,
   "metadata": {
    "scrolled": false
   },
   "outputs": [
    {
     "data": {
      "text/plain": [
       "str"
      ]
     },
     "execution_count": 33,
     "metadata": {},
     "output_type": "execute_result"
    }
   ],
   "source": [
    "type(poke_res.text)"
   ]
  },
  {
   "cell_type": "code",
   "execution_count": 34,
   "metadata": {
    "scrolled": true
   },
   "outputs": [
    {
     "name": "stdout",
     "output_type": "stream",
     "text": [
      "Help on method json in module requests.models:\n",
      "\n",
      "json(**kwargs) method of requests.models.Response instance\n",
      "    Returns the json-encoded content of a response, if any.\n",
      "    \n",
      "    :param \\*\\*kwargs: Optional arguments that ``json.loads`` takes.\n",
      "    :raises requests.exceptions.JSONDecodeError: If the response body does not\n",
      "        contain valid json.\n",
      "\n"
     ]
    }
   ],
   "source": [
    "help(poke_res.json)"
   ]
  },
  {
   "cell_type": "code",
   "execution_count": 35,
   "metadata": {},
   "outputs": [
    {
     "data": {
      "text/plain": [
       "dict"
      ]
     },
     "execution_count": 35,
     "metadata": {},
     "output_type": "execute_result"
    }
   ],
   "source": [
    "data = poke_res.json()\n",
    "type(data)"
   ]
  },
  {
   "cell_type": "code",
   "execution_count": 36,
   "metadata": {
    "scrolled": true
   },
   "outputs": [
    {
     "data": {
      "text/plain": [
       "dict_keys(['abilities', 'base_experience', 'forms', 'game_indices', 'height', 'held_items', 'id', 'is_default', 'location_area_encounters', 'moves', 'name', 'order', 'past_types', 'species', 'sprites', 'stats', 'types', 'weight'])"
      ]
     },
     "execution_count": 36,
     "metadata": {},
     "output_type": "execute_result"
    }
   ],
   "source": [
    "data.keys()"
   ]
  },
  {
   "cell_type": "code",
   "execution_count": 37,
   "metadata": {
    "scrolled": true
   },
   "outputs": [
    {
     "name": "stdout",
     "output_type": "stream",
     "text": [
      "blaze\n",
      "solar-power\n"
     ]
    }
   ],
   "source": [
    "for ability in data.get('abilities'):\n",
    "    print(ability['ability']['name'])"
   ]
  },
  {
   "cell_type": "code",
   "execution_count": 38,
   "metadata": {
    "scrolled": true
   },
   "outputs": [
    {
     "name": "stdout",
     "output_type": "stream",
     "text": [
      "mega-punch\n",
      "fire-punch\n",
      "thunder-punch\n",
      "scratch\n",
      "swords-dance\n",
      "cut\n",
      "wing-attack\n",
      "fly\n",
      "mega-kick\n",
      "headbutt\n",
      "body-slam\n",
      "take-down\n",
      "double-edge\n",
      "leer\n",
      "growl\n",
      "roar\n",
      "ember\n",
      "flamethrower\n",
      "hyper-beam\n",
      "submission\n",
      "counter\n",
      "seismic-toss\n",
      "strength\n",
      "solar-beam\n",
      "dragon-rage\n",
      "fire-spin\n",
      "earthquake\n",
      "fissure\n",
      "dig\n",
      "toxic\n",
      "rage\n",
      "mimic\n",
      "double-team\n",
      "smokescreen\n",
      "defense-curl\n",
      "reflect\n",
      "bide\n",
      "fire-blast\n",
      "swift\n",
      "skull-bash\n",
      "fury-swipes\n",
      "rest\n",
      "rock-slide\n",
      "slash\n",
      "substitute\n",
      "snore\n",
      "curse\n",
      "protect\n",
      "scary-face\n",
      "mud-slap\n",
      "outrage\n",
      "sandstorm\n",
      "endure\n",
      "false-swipe\n",
      "swagger\n",
      "fury-cutter\n",
      "steel-wing\n",
      "attract\n",
      "sleep-talk\n",
      "return\n",
      "frustration\n",
      "dynamic-punch\n",
      "dragon-breath\n",
      "iron-tail\n",
      "metal-claw\n",
      "hidden-power\n",
      "twister\n",
      "sunny-day\n",
      "crunch\n",
      "rock-smash\n",
      "beat-up\n",
      "heat-wave\n",
      "will-o-wisp\n",
      "facade\n",
      "focus-punch\n",
      "helping-hand\n",
      "brick-break\n",
      "secret-power\n",
      "blaze-kick\n",
      "blast-burn\n",
      "weather-ball\n",
      "air-cutter\n",
      "overheat\n",
      "rock-tomb\n",
      "aerial-ace\n",
      "dragon-claw\n",
      "dragon-dance\n",
      "roost\n",
      "natural-gift\n",
      "tailwind\n",
      "fling\n",
      "flare-blitz\n",
      "air-slash\n",
      "dragon-pulse\n",
      "focus-blast\n",
      "giga-impact\n",
      "shadow-claw\n",
      "fire-fang\n",
      "defog\n",
      "captivate\n",
      "ominous-wind\n",
      "hone-claws\n",
      "flame-burst\n",
      "flame-charge\n",
      "round\n",
      "echoed-voice\n",
      "sky-drop\n",
      "incinerate\n",
      "acrobatics\n",
      "inferno\n",
      "fire-pledge\n",
      "bulldoze\n",
      "dragon-tail\n",
      "work-up\n",
      "heat-crash\n",
      "hurricane\n",
      "confide\n",
      "mystical-fire\n",
      "power-up-punch\n",
      "brutal-swing\n",
      "breaking-swipe\n",
      "scale-shot\n",
      "dual-wingbeat\n",
      "scorching-sands\n",
      "tera-blast\n"
     ]
    }
   ],
   "source": [
    "for move in data.get('moves'):\n",
    "    print(move['move']['name'])"
   ]
  },
  {
   "cell_type": "markdown",
   "metadata": {},
   "source": [
    "### Python Wrappers"
   ]
  },
  {
   "cell_type": "code",
   "execution_count": 39,
   "metadata": {},
   "outputs": [
    {
     "name": "stdout",
     "output_type": "stream",
     "text": [
      "http://api.weatherapi.com/v1/current.json?key=1ac9901266fa4ab48f9185441220510&q=Chicago\n"
     ]
    }
   ],
   "source": [
    "base_url = 'http://api.weatherapi.com/v1'\n",
    "api_method = '/current.json'\n",
    "api_key = '1ac9901266fa4ab48f9185441220510'\n",
    "city = 'Chicago'\n",
    "\n",
    "request_url = f\"{base_url}{api_method}?key={api_key}&q={city}\"\n",
    "print(request_url)"
   ]
  },
  {
   "cell_type": "code",
   "execution_count": 40,
   "metadata": {},
   "outputs": [
    {
     "data": {
      "text/plain": [
       "{'location': {'name': 'Chicago',\n",
       "  'region': 'Illinois',\n",
       "  'country': 'United States of America',\n",
       "  'lat': 41.85,\n",
       "  'lon': -87.65,\n",
       "  'tz_id': 'America/Chicago',\n",
       "  'localtime_epoch': 1696450551,\n",
       "  'localtime': '2023-10-04 15:15'},\n",
       " 'current': {'last_updated_epoch': 1696449600,\n",
       "  'last_updated': '2023-10-04 15:00',\n",
       "  'temp_c': 28.3,\n",
       "  'temp_f': 82.9,\n",
       "  'is_day': 1,\n",
       "  'condition': {'text': 'Partly cloudy',\n",
       "   'icon': '//cdn.weatherapi.com/weather/64x64/day/116.png',\n",
       "   'code': 1003},\n",
       "  'wind_mph': 17.4,\n",
       "  'wind_kph': 28.1,\n",
       "  'wind_degree': 220,\n",
       "  'wind_dir': 'SW',\n",
       "  'pressure_mb': 1014.0,\n",
       "  'pressure_in': 29.93,\n",
       "  'precip_mm': 0.0,\n",
       "  'precip_in': 0.0,\n",
       "  'humidity': 41,\n",
       "  'cloud': 75,\n",
       "  'feelslike_c': 29.2,\n",
       "  'feelslike_f': 84.6,\n",
       "  'vis_km': 16.0,\n",
       "  'vis_miles': 9.0,\n",
       "  'uv': 7.0,\n",
       "  'gust_mph': 18.5,\n",
       "  'gust_kph': 29.7}}"
      ]
     },
     "execution_count": 40,
     "metadata": {},
     "output_type": "execute_result"
    }
   ],
   "source": [
    "res = requests.get(request_url)\n",
    "weather_data = res.json()\n",
    "weather_data"
   ]
  },
  {
   "cell_type": "code",
   "execution_count": 41,
   "metadata": {},
   "outputs": [
    {
     "name": "stdout",
     "output_type": "stream",
     "text": [
      "<class 'dict'>\n"
     ]
    }
   ],
   "source": [
    "print(type(weather_data))"
   ]
  },
  {
   "cell_type": "code",
   "execution_count": 71,
   "metadata": {},
   "outputs": [
    {
     "name": "stdout",
     "output_type": "stream",
     "text": [
      "Current: 82.9\n",
      "Feels Like: 84.6\n",
      "Condition: Partly cloudy\n",
      "City: Chicago\n",
      "Region: Illinois\n"
     ]
    }
   ],
   "source": [
    "current_temp = weather_data['current']['temp_f']\n",
    "print('Current:', current_temp)\n",
    "\n",
    "feels_like = weather_data['current']['feelslike_f']\n",
    "print('Feels Like:', feels_like)\n",
    "\n",
    "condition = weather_data['current']['condition']['text']\n",
    "print('Condition:', condition)\n",
    "\n",
    "city = weather_data['location']['name']\n",
    "print('City:', city)\n",
    "\n",
    "region = weather_data['location']['region']\n",
    "print('Region:', region)"
   ]
  },
  {
   "cell_type": "code",
   "execution_count": 94,
   "metadata": {},
   "outputs": [],
   "source": [
    "class CityWeather:\n",
    "    def __init__(self, name, region, current, feels_like, condition):\n",
    "        self.city = name\n",
    "        self.region = region\n",
    "        self.current_temp = current\n",
    "        self.feels_like = feels_like\n",
    "        self.condition = condition\n",
    "        \n",
    "    def __str__(self):\n",
    "        return f\"It is currently {self.condition} and {self.current_temp} in {self.city}, {self.region}. \\\n",
    "It feels like {self.feels_like}.\"\n",
    "    \n",
    "class CityAstronomy:\n",
    "    def __init__(self, name, region, sunrise, sunset, moonrise, moonset, moonphase):\n",
    "        self.city = name\n",
    "        self.region = region\n",
    "        self.sunrise = sunrise\n",
    "        self.sunset = sunset\n",
    "        self.moonrise = moonrise\n",
    "        self.moonset = moonset\n",
    "        self.moon_phase = moonphase\n",
    "        \n",
    "    def __str__(self):\n",
    "        return f\"City: {self.city}\\nSunrise: {self.sunrise}\\nSunset:{self.sunset}\"\n",
    "\n",
    "\n",
    "\n",
    "class WeatherAPI:\n",
    "    base_url = 'https://api.weatherapi.com/v1'\n",
    "    \n",
    "    def __init__(self, api_key):\n",
    "        self.api_key = api_key\n",
    "        \n",
    "    # Private method that will set up the request url, make the request, return the response data\n",
    "    # The _ before the function name is a naming convention to signal this is a private method\n",
    "    def _get(self, city, api_method):\n",
    "        request_url = f\"{self.base_url}{api_method}?key={self.api_key}&q={city}\"\n",
    "        response = requests.get(request_url)\n",
    "        if response.ok:\n",
    "            data = response.json()\n",
    "            return data\n",
    "        else:\n",
    "            return None\n",
    "        \n",
    "    # Public method that will call the private method and create a Weather Object with the data\n",
    "    def get_current_weather(self, city):\n",
    "        weather_data = self._get(city, '/current.json')\n",
    "        if weather_data:\n",
    "            city = weather_data['location']['name']\n",
    "            region = weather_data['location']['region']\n",
    "            current_temp = weather_data['current']['temp_f']\n",
    "            feels_like = weather_data['current']['feelslike_f']\n",
    "            condition = weather_data['current']['condition']['text']\n",
    "            city_obj = CityWeather(city, region, current_temp, feels_like, condition)\n",
    "            return city_obj\n",
    "        else:\n",
    "            print('Something went wrong')\n",
    "            return None\n",
    "        \n",
    "    # Public method that will call the private method and create an Astronomy object with the data\n",
    "    def get_astronomy(self, city):\n",
    "        astronomy_data = self._get(city, '/astronomy.json')\n",
    "        if astronomy_data:\n",
    "            city = astronomy_data['location']['name']\n",
    "            region = astronomy_data['location']['region']\n",
    "            sunrise = astronomy_data['astronomy']['astro']['sunrise']\n",
    "            sunset = astronomy_data['astronomy']['astro']['sunset']\n",
    "            moonrise = astronomy_data['astronomy']['astro']['moonrise']\n",
    "            moonset = astronomy_data['astronomy']['astro']['moonset']\n",
    "            moon_phase = astronomy_data['astronomy']['astro']['moon_phase']\n",
    "            astro_obj = CityAstronomy(city, region, sunrise, sunset, moonrise, moonset, moon_phase)\n",
    "            return astro_obj\n",
    "        else:\n",
    "            print('Something went wrong')\n",
    "            return None\n",
    "            \n",
    "            \n",
    "        "
   ]
  },
  {
   "cell_type": "code",
   "execution_count": 95,
   "metadata": {},
   "outputs": [
    {
     "name": "stdout",
     "output_type": "stream",
     "text": [
      "<__main__.WeatherAPI object at 0x000001A2CF162B30>\n"
     ]
    }
   ],
   "source": [
    "client = WeatherAPI('1ac9901266fa4ab48f9185441220510')\n",
    "print(client)"
   ]
  },
  {
   "cell_type": "code",
   "execution_count": 96,
   "metadata": {
    "scrolled": true
   },
   "outputs": [
    {
     "name": "stdout",
     "output_type": "stream",
     "text": [
      "It is currently Partly cloudy and 82.9 in Chicago, Illinois. It feels like 84.6.\n"
     ]
    }
   ],
   "source": [
    "chicago = client.get_current_weather('Chicago')\n",
    "print(chicago)"
   ]
  },
  {
   "cell_type": "code",
   "execution_count": 97,
   "metadata": {},
   "outputs": [
    {
     "data": {
      "text/plain": [
       "84.6"
      ]
     },
     "execution_count": 97,
     "metadata": {},
     "output_type": "execute_result"
    }
   ],
   "source": [
    "chicago.feels_like"
   ]
  },
  {
   "cell_type": "code",
   "execution_count": 98,
   "metadata": {},
   "outputs": [
    {
     "data": {
      "text/plain": [
       "'Partly cloudy'"
      ]
     },
     "execution_count": 98,
     "metadata": {},
     "output_type": "execute_result"
    }
   ],
   "source": [
    "chicago.condition"
   ]
  },
  {
   "cell_type": "code",
   "execution_count": 99,
   "metadata": {},
   "outputs": [
    {
     "name": "stdout",
     "output_type": "stream",
     "text": [
      "It is currently Partly cloudy and 62.1 in Seattle, Washington. It feels like 62.1.\n"
     ]
    }
   ],
   "source": [
    "seattle = client.get_current_weather('Seattle')\n",
    "print(seattle)"
   ]
  },
  {
   "cell_type": "code",
   "execution_count": 100,
   "metadata": {},
   "outputs": [
    {
     "data": {
      "text/plain": [
       "62.1"
      ]
     },
     "execution_count": 100,
     "metadata": {},
     "output_type": "execute_result"
    }
   ],
   "source": [
    "seattle.current_temp"
   ]
  },
  {
   "cell_type": "code",
   "execution_count": 101,
   "metadata": {},
   "outputs": [
    {
     "name": "stdout",
     "output_type": "stream",
     "text": [
      "Something went wrong\n"
     ]
    }
   ],
   "source": [
    "client.get_current_weather('dfjdsfkljdsf')"
   ]
  },
  {
   "cell_type": "code",
   "execution_count": 102,
   "metadata": {},
   "outputs": [
    {
     "name": "stdout",
     "output_type": "stream",
     "text": [
      "Something went wrong\n"
     ]
    }
   ],
   "source": [
    "fake_city = client.get_current_weather('fake_city')"
   ]
  },
  {
   "cell_type": "code",
   "execution_count": 103,
   "metadata": {},
   "outputs": [
    {
     "name": "stdout",
     "output_type": "stream",
     "text": [
      "None\n"
     ]
    }
   ],
   "source": [
    "print(fake_city)"
   ]
  },
  {
   "cell_type": "code",
   "execution_count": 112,
   "metadata": {},
   "outputs": [
    {
     "data": {
      "text/plain": [
       "<__main__.CityAstronomy at 0x1a2ccefe800>"
      ]
     },
     "execution_count": 112,
     "metadata": {},
     "output_type": "execute_result"
    }
   ],
   "source": [
    "chi_astro = client.get_astronomy('Chicago')\n",
    "chi_astro"
   ]
  },
  {
   "cell_type": "code",
   "execution_count": 113,
   "metadata": {},
   "outputs": [
    {
     "data": {
      "text/plain": [
       "'06:50 AM'"
      ]
     },
     "execution_count": 113,
     "metadata": {},
     "output_type": "execute_result"
    }
   ],
   "source": [
    "chi_astro.sunrise"
   ]
  },
  {
   "cell_type": "code",
   "execution_count": 114,
   "metadata": {},
   "outputs": [
    {
     "data": {
      "text/plain": [
       "'06:27 PM'"
      ]
     },
     "execution_count": 114,
     "metadata": {},
     "output_type": "execute_result"
    }
   ],
   "source": [
    "chi_astro.sunset"
   ]
  },
  {
   "cell_type": "code",
   "execution_count": 115,
   "metadata": {},
   "outputs": [
    {
     "data": {
      "text/plain": [
       "'Waning Gibbous'"
      ]
     },
     "execution_count": 115,
     "metadata": {},
     "output_type": "execute_result"
    }
   ],
   "source": [
    "chi_astro.moon_phase"
   ]
  },
  {
   "cell_type": "code",
   "execution_count": 116,
   "metadata": {},
   "outputs": [
    {
     "name": "stdout",
     "output_type": "stream",
     "text": [
      "Welcome to the weather app. It will tell you the weather for a city\n",
      "You need an API Key to use this. Please enter that here: 1ac9901266fa4ab48f9185441220510\n",
      "Enter city name: chicago\n",
      "It is currently Partly cloudy and 82.9 in Chicago, Illinois. It feels like 84.6.\n",
      "Enter city name: seattle\n",
      "It is currently Partly cloudy and 62.1 in Seattle, Washington. It feels like 62.1.\n",
      "Enter city name: los angeles\n",
      "It is currently Sunny and 84.0 in Los Angeles, California. It feels like 81.1.\n",
      "Enter city name: san diego\n",
      "It is currently Partly cloudy and 77.0 in San Diego, California. It feels like 79.1.\n",
      "Enter city name: denver\n",
      "It is currently Partly cloudy and 68.2 in Denver, Colorado. It feels like 68.2.\n",
      "Enter city name: London\n",
      "It is currently Clear and 57.2 in London, City of London, Greater London. It feels like 55.2.\n",
      "Enter city name: quit\n"
     ]
    }
   ],
   "source": [
    "def main():\n",
    "    print('Welcome to the weather app. It will tell you the weather for a city')\n",
    "    api = input('You need an API Key to use this. Please enter that here: ')\n",
    "    client = WeatherAPI(api)\n",
    "    while True:\n",
    "        city = input('Enter city name: ').title()\n",
    "        if city.lower() == 'quit':\n",
    "            break\n",
    "        weather = client.get_current_weather(city)\n",
    "        print(weather)\n",
    "        \n",
    "        \n",
    "main()"
   ]
  },
  {
   "cell_type": "markdown",
   "metadata": {},
   "source": [
    "# Exercise"
   ]
  },
  {
   "cell_type": "markdown",
   "metadata": {},
   "source": [
    "#### Pokemon API Wrapper"
   ]
  },
  {
   "cell_type": "markdown",
   "metadata": {},
   "source": [
    "Create a python wrapper for the Pokemon API. It should take in a pokemon name and create a Pokemon object. The Pokemon object should have, at a minimum, the Pokemon's name, height, and weight."
   ]
  },
  {
   "cell_type": "code",
   "execution_count": null,
   "metadata": {},
   "outputs": [],
   "source": []
  }
 ],
 "metadata": {
  "kernelspec": {
   "display_name": "Python 3 (ipykernel)",
   "language": "python",
   "name": "python3"
  },
  "language_info": {
   "codemirror_mode": {
    "name": "ipython",
    "version": 3
   },
   "file_extension": ".py",
   "mimetype": "text/x-python",
   "name": "python",
   "nbconvert_exporter": "python",
   "pygments_lexer": "ipython3",
   "version": "3.10.9"
  }
 },
 "nbformat": 4,
 "nbformat_minor": 4
}
